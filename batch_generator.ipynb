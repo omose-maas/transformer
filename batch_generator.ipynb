{
 "cells": [
  {
   "cell_type": "code",
   "execution_count": 1,
   "id": "fatal-depth",
   "metadata": {},
   "outputs": [],
   "source": [
    "import sentencepiece as spm\n",
    "import numpy as np\n",
    "import random\n",
    "from typing import List, Sequence, Tuple"
   ]
  },
  {
   "cell_type": "code",
   "execution_count": 2,
   "id": "hazardous-spank",
   "metadata": {},
   "outputs": [],
   "source": [
    "ENCODER_INPUT_NODE = 'transformer/encoder_input:0'\n",
    "DECODER_INPUT_NODE = 'transformer/decoder_input:0'\n",
    "IS_TRAINING_NODE = 'transformer/is_training:0'"
   ]
  },
  {
   "cell_type": "code",
   "execution_count": 3,
   "id": "plain-vintage",
   "metadata": {},
   "outputs": [],
   "source": [
    "class BatchGenerator:\n",
    "    def __init__(\n",
    "            self,\n",
    "            max_length=50,\n",
    "            spm_model_path: str = 'transformer/preprocess/spm_natsume.model'\n",
    "    ) -> None:\n",
    "        self.max_length = max_length\n",
    "        self.sp = spm.SentencePieceProcessor()\n",
    "        self.sp.load(spm_model_path)\n",
    "        self.bos = self.sp.piece_to_id('<s>')\n",
    "        self.eos = self.sp.piece_to_id('</s>')\n",
    "        self.pad = 0\n",
    "        \n",
    "    @property\n",
    "    def vocab_size(self) -> int:\n",
    "        return self.sp.get_piece_size()\n",
    "    \n",
    "    def load(self, file_path: str) -> None:\n",
    "        with open(file_path) as f:\n",
    "            lines = [line.strip() for line in f.readlines()]\n",
    "        self.data = self._create_data(lines)\n",
    "        \n",
    "    def get_batch(self, batch_size: int = 128, shuffle=True):\n",
    "        while True:\n",
    "            if shuffle:\n",
    "                random.shuffle(self.data)\n",
    "            raw_batch_list = self._split(self.data, batch_size)\n",
    "            for raw_batch in raw_batch_list:\n",
    "                questions, answers = zip(*raw_batch)\n",
    "                yield {\n",
    "                    ENCODER_INPUT_NODE: self._convert_to_array(questions),\n",
    "                    DECODER_INPUT_NODE: self._convert_to_array(answers),\n",
    "                    IS_TRAINING_NODE: True,\n",
    "                }\n",
    "    \n",
    "    def _create_data(self, lines: Sequence[str]) -> List[Tuple[List[int], List[int]]]:\n",
    "        questions = [self._create_question(line) for line in lines[:-1]]\n",
    "        answers = [self._create_answer(line) for line in lines[1:]]\n",
    "        return list(zip(questions, answers))\n",
    "    \n",
    "    def _create_question(self, sentence) -> List[int]:\n",
    "        ids = self.sp.encode_as_ids(sentence)\n",
    "        return ids[:self.max_length]\n",
    "    \n",
    "    def _create_answer(self, sentence: str) -> List[int]:\n",
    "        ids = self.sp.encode_as_ids(sentence)\n",
    "        return [self.bos] + ids[:self.max_length - 2] + [self.eos]\n",
    "    \n",
    "    def _split(self, nd_list: Sequence, batch_size: int) -> List[List]:\n",
    "        return [list(nd_list[i - batch_size:i]) for i in range(batch_size, len(nd_list) + 1, batch_size)]\n",
    "    \n",
    "    def _convert_to_array(self, id_list_list: Sequence[Sequence[int]]) -> np.ndarray:\n",
    "        max_len = max([len(id_list) for id_list in id_list_list])\n",
    "\n",
    "        return np.array(\n",
    "            [list(id_list) + [self.pad] * (max_len - len(id_list)) for id_list in id_list_list],\n",
    "            dtype=np.int32,\n",
    "        )\n",
    "    \n",
    "    def _decode(self, code):\n",
    "        return self.sp.decode(code)"
   ]
  },
  {
   "cell_type": "code",
   "execution_count": null,
   "id": "composed-exemption",
   "metadata": {},
   "outputs": [],
   "source": []
  }
 ],
 "metadata": {
  "kernelspec": {
   "display_name": "Python 3",
   "language": "python",
   "name": "python3"
  },
  "language_info": {
   "codemirror_mode": {
    "name": "ipython",
    "version": 3
   },
   "file_extension": ".py",
   "mimetype": "text/x-python",
   "name": "python",
   "nbconvert_exporter": "python",
   "pygments_lexer": "ipython3",
   "version": "3.7.9"
  }
 },
 "nbformat": 4,
 "nbformat_minor": 5
}

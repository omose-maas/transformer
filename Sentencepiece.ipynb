{
 "cells": [
  {
   "cell_type": "markdown",
   "id": "brown-bathroom",
   "metadata": {},
   "source": [
    "メモ\n",
    "\n",
    "センテンスtoピース用のコマンド"
   ]
  },
  {
   "cell_type": "code",
   "execution_count": null,
   "id": "naval-philadelphia",
   "metadata": {},
   "outputs": [],
   "source": [
    "#!/bin/sh\n",
    "pipenv run spm_train --pad_id=0 --bos_id=1 --eos_id=2 --unk_id=3 --input=data/natsume.txt --model_prefix=transformer/preprocess/spm_natsume --vocab_size=8000"
   ]
  }
 ],
 "metadata": {
  "kernelspec": {
   "display_name": "Python 3",
   "language": "python",
   "name": "python3"
  },
  "language_info": {
   "codemirror_mode": {
    "name": "ipython",
    "version": 3
   },
   "file_extension": ".py",
   "mimetype": "text/x-python",
   "name": "python",
   "nbconvert_exporter": "python",
   "pygments_lexer": "ipython3",
   "version": "3.7.9"
  }
 },
 "nbformat": 4,
 "nbformat_minor": 5
}
